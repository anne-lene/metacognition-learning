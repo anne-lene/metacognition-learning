{
 "cells": [
  {
   "cell_type": "code",
   "execution_count": null,
   "id": "88402d70",
   "metadata": {},
   "outputs": [],
   "source": [
    "import sys\n",
    "import numpy as np\n",
    "import pandas as pd\n",
    "import matplotlib\n",
    "import matplotlib.pyplot as plt\n",
    "import seaborn as sns\n",
    "from utility_functions import *\n",
    "\n",
    "plt.rcParams['mathtext.fontset'] = 'cm' \n",
    "np.set_printoptions(threshold=sys.maxsize)\n",
    "font = {'size'   : 40,\n",
    "        'family': 'arial'}\n",
    "matplotlib.rc('font', **font)\n",
    "plt.rcParams['figure.figsize'] = (15,15)\n",
    "matplotlib.rcParams['axes.titlepad'] = 20\n",
    "matplotlib.rcParams['axes.titlesize'] = 40"
   ]
  },
  {
   "cell_type": "code",
   "execution_count": null,
   "id": "cf24a66c",
   "metadata": {},
   "outputs": [],
   "source": []
  },
  {
   "cell_type": "code",
   "execution_count": null,
   "id": "2d83d7ff",
   "metadata": {},
   "outputs": [],
   "source": []
  },
  {
   "cell_type": "code",
   "execution_count": null,
   "id": "db191568",
   "metadata": {},
   "outputs": [],
   "source": []
  }
 ],
 "metadata": {
  "kernelspec": {
   "display_name": "Python 3 (ipykernel)",
   "language": "python",
   "name": "python3"
  },
  "language_info": {
   "codemirror_mode": {
    "name": "ipython",
    "version": 3
   },
   "file_extension": ".py",
   "mimetype": "text/x-python",
   "name": "python",
   "nbconvert_exporter": "python",
   "pygments_lexer": "ipython3",
   "version": "3.9.13"
  }
 },
 "nbformat": 4,
 "nbformat_minor": 5
}
