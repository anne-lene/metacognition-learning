{
 "cells": [
  {
   "cell_type": "code",
   "execution_count": 1,
   "id": "82ed2c75",
   "metadata": {},
   "outputs": [],
   "source": [
    "import sys\n",
    "import numpy as np\n",
    "import pandas as pd\n",
    "import matplotlib\n",
    "import matplotlib.pyplot as plt\n",
    "import seaborn as sns\n",
    "sys.path.append('../../utils/')\n",
    "from utils_lib import *              \n",
    "from utils_bdi import * \n",
    "\n",
    "plt.rcParams['mathtext.fontset'] = 'cm' \n",
    "np.set_printoptions(threshold=sys.maxsize)\n",
    "font = {'size'   : 40,\n",
    "        'family': 'arial'}\n",
    "matplotlib.rc('font', **font)\n",
    "plt.rcParams['figure.figsize'] = (15,15)\n",
    "matplotlib.rcParams['axes.titlepad'] = 20\n",
    "matplotlib.rcParams['axes.titlesize'] = 40"
   ]
  },
  {
   "cell_type": "code",
   "execution_count": null,
   "id": "f5af1762",
   "metadata": {},
   "outputs": [],
   "source": []
  }
 ],
 "metadata": {
  "kernelspec": {
   "display_name": "Python 3 (ipykernel)",
   "language": "python",
   "name": "python3"
  },
  "language_info": {
   "codemirror_mode": {
    "name": "ipython",
    "version": 3
   },
   "file_extension": ".py",
   "mimetype": "text/x-python",
   "name": "python",
   "nbconvert_exporter": "python",
   "pygments_lexer": "ipython3",
   "version": "3.9.13"
  }
 },
 "nbformat": 4,
 "nbformat_minor": 5
}
