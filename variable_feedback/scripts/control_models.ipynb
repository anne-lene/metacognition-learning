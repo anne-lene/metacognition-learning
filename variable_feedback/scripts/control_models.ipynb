{
 "cells": [
  {
   "cell_type": "code",
   "execution_count": 1,
   "id": "d515ae52",
   "metadata": {},
   "outputs": [],
   "source": [
    "import numpy as np\n",
    "import pandas as pd\n",
    "from scipy.optimize import minimize"
   ]
  },
  {
   "cell_type": "code",
   "execution_count": 2,
   "id": "c135d5e9",
   "metadata": {
    "scrolled": true
   },
   "outputs": [],
   "source": [
    "def negative_log_likelihood(b, responses):\n",
    "    \"\"\"Calculate the negative log likelihood for the given bias parameter b and observed responses.\"\"\"\n",
    "    numbers = np.arange(1, 101)\n",
    "    probabilities = ((1 - b) + b * numbers / 100)\n",
    "    probabilities /= probabilities.sum()\n",
    "    \n",
    "    # Likelihood of observed data\n",
    "    likelihood = probabilities[responses.astype(int) - 1]  # subtract 1 cause responses are 1-based\n",
    "    return -np.sum(np.log(likelihood))\n",
    "\n",
    "def fit_model_to_subject(responses, nr_of_starts=10):\n",
    "    \"\"\"Fit the model to a single subject's responses using multiple starting points.\"\"\"\n",
    "    bounds = [(0, 1)]\n",
    "    best_result = None\n",
    "    \n",
    "    for _ in range(nr_of_starts):\n",
    "        start_point = np.random.uniform(*bounds[0])\n",
    "        result = minimize(negative_log_likelihood, x0=[start_point], args=(responses,), method='SLSQP', bounds=bounds)\n",
    "\n",
    "        if best_result is None or (result.success and result.fun < best_result.fun):\n",
    "            best_result = result\n",
    "\n",
    "    return (best_result.x[0], best_result.fun) if best_result is not None else (None, None)"
   ]
  },
  {
   "cell_type": "code",
   "execution_count": 3,
   "id": "5f96674a",
   "metadata": {
    "scrolled": true
   },
   "outputs": [
    {
     "name": "stdout",
     "output_type": "stream",
     "text": [
      "Subject 0\n",
      "Subject 1\n",
      "Subject 2\n",
      "Subject 3\n",
      "Subject 4\n",
      "Subject 5\n",
      "Subject 6\n",
      "Subject 7\n",
      "Subject 8\n",
      "Subject 9\n",
      "Subject 10\n",
      "Subject 11\n",
      "Subject 12\n",
      "Subject 13\n",
      "Subject 14\n",
      "Subject 15\n",
      "Subject 16\n",
      "Subject 17\n",
      "Subject 18\n",
      "Subject 19\n",
      "Subject 20\n",
      "Subject 21\n",
      "Subject 22\n",
      "Subject 23\n",
      "Subject 24\n",
      "Subject 25\n",
      "Subject 26\n",
      "Subject 27\n",
      "Subject 28\n",
      "Subject 29\n",
      "Subject 30\n",
      "Subject 31\n",
      "Subject 32\n",
      "Subject 33\n",
      "Subject 34\n",
      "Subject 35\n",
      "Subject 36\n",
      "Subject 37\n",
      "Subject 38\n",
      "Subject 39\n",
      "Subject 40\n",
      "Subject 41\n",
      "Subject 42\n",
      "Subject 43\n",
      "Subject 44\n",
      "Subject 45\n",
      "Subject 46\n",
      "Subject 47\n",
      "Subject 48\n",
      "Subject 49\n",
      "Subject 50\n",
      "Subject 51\n",
      "Subject 52\n",
      "Subject 53\n",
      "Subject 54\n",
      "Subject 55\n",
      "Subject 56\n",
      "Subject 57\n",
      "Subject 58\n",
      "Subject 59\n",
      "Subject 60\n",
      "Subject 61\n",
      "Subject 62\n",
      "Subject 63\n"
     ]
    }
   ],
   "source": [
    "# Load and process data\n",
    "df = pd.read_csv('../data/variable_fb_data_processed.csv')\n",
    "df_pars = df[['pid', 'bdi_score', 'bdi_group_num', 'bdi_group']].drop_duplicates('pid').reset_index(drop=True)\n",
    "\n",
    "# Define constants and fit models\n",
    "nr_of_starts = 10\n",
    "\n",
    "idx = 0\n",
    "for idx_subj, pid in enumerate(df_pars['pid'].unique()):\n",
    "    print(f'Subject {idx_subj}')\n",
    "    subject_data = df_pars[df_pars['pid'] == pid].iloc[0]\n",
    "    df_pars.loc[idx, ['pid', 'bdi_score', 'bdi_group_num', 'bdi_group']] = subject_data[['pid', 'bdi_score', 'bdi_group_num', 'bdi_group']]\n",
    "    subject_responses = df[df['pid'] == pid]['confidence'].values\n",
    "    \n",
    "    # Fit model\n",
    "    df_pars.loc[idx, ['random_bias', 'func_random']] = fit_model_to_subject(subject_responses)\n",
    "    idx += 1"
   ]
  },
  {
   "cell_type": "code",
   "execution_count": null,
   "id": "0ab3b3f1",
   "metadata": {},
   "outputs": [],
   "source": []
  }
 ],
 "metadata": {
  "kernelspec": {
   "display_name": "Python 3 (ipykernel)",
   "language": "python",
   "name": "python3"
  },
  "language_info": {
   "codemirror_mode": {
    "name": "ipython",
    "version": 3
   },
   "file_extension": ".py",
   "mimetype": "text/x-python",
   "name": "python",
   "nbconvert_exporter": "python",
   "pygments_lexer": "ipython3",
   "version": "3.9.13"
  }
 },
 "nbformat": 4,
 "nbformat_minor": 5
}
