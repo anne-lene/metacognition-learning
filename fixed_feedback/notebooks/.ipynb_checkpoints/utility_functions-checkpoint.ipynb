{
 "cells": [
  {
   "cell_type": "code",
   "execution_count": 1,
   "id": "eb340b3b",
   "metadata": {},
   "outputs": [],
   "source": [
    "import sys\n",
    "import numpy as np\n",
    "import pandas as pd\n",
    "import matplotlib.pyplot as plt\n",
    "import seaborn as sns\n",
    "import statsmodels.api as sm\n",
    "from scipy.stats import linregress\n",
    "from IPython.core.display import HTML\n",
    "import sklearn\n",
    "from statsmodels.graphics.factorplots import interaction_plot\n",
    "from statsmodels.stats.anova import anova_lm, AnovaRM\n",
    "import pingouin as pg\n"
   ]
  },
  {
   "cell_type": "code",
   "execution_count": null,
   "id": "1a63d8dc",
   "metadata": {},
   "outputs": [],
   "source": [
    "def make_figure(axes):\n",
    "    width = 3\n",
    "    axes.spines['left'].set_linewidth(width)\n",
    "    axes.spines['bottom'].set_linewidth(width)\n",
    "    axes.spines['right'].set_visible(False)\n",
    "    axes.spines['top'].set_visible(False)\n",
    "    axes.tick_params('both', length=12, width=width)"
   ]
  },
  {
   "cell_type": "code",
   "execution_count": null,
   "id": "aafcb80e",
   "metadata": {},
   "outputs": [],
   "source": []
  }
 ],
 "metadata": {
  "kernelspec": {
   "display_name": "Python 3 (ipykernel)",
   "language": "python",
   "name": "python3"
  },
  "language_info": {
   "codemirror_mode": {
    "name": "ipython",
    "version": 3
   },
   "file_extension": ".py",
   "mimetype": "text/x-python",
   "name": "python",
   "nbconvert_exporter": "python",
   "pygments_lexer": "ipython3",
   "version": "3.9.13"
  }
 },
 "nbformat": 4,
 "nbformat_minor": 5
}
