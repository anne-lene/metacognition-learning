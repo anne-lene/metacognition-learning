{
 "cells": [
  {
   "cell_type": "code",
   "execution_count": 5,
   "id": "75a8c37e",
   "metadata": {},
   "outputs": [],
   "source": [
    "import sys\n",
    "import numpy as np\n",
    "import pandas as pd\n",
    "import matplotlib.pyplot as plt\n",
    "import seaborn as sns\n",
    "import statsmodels.api as sm\n",
    "from scipy.stats import linregress\n",
    "from IPython.core.display import HTML\n",
    "import sklearn\n",
    "from statsmodels.graphics.factorplots import interaction_plot\n",
    "from statsmodels.stats.anova import anova_lm, AnovaRM\n",
    "import pingouin as pg\n",
    "\n",
    "from utility_functions import *"
   ]
  },
  {
   "cell_type": "code",
   "execution_count": 53,
   "id": "6e629240",
   "metadata": {
    "scrolled": true
   },
   "outputs": [
    {
     "name": "stderr",
     "output_type": "stream",
     "text": [
      "/var/folders/xf/299x0l456pl3nxbc1jbwpyfc0000gn/T/ipykernel_1527/3899779587.py:5: DtypeWarning: Columns (21,22) have mixed types. Specify dtype option on import or set low_memory=False.\n",
      "  df_full = pd.read_csv(f'{DATA_PATH}main-20-12-14-processed_filtered.csv')\n"
     ]
    }
   ],
   "source": [
    "# Constants and Variables\n",
    "DATA_PATH = './../data/cleaned/'\n",
    "\n",
    "# Read data from files\n",
    "df_full = pd.read_csv(f'{DATA_PATH}main-20-12-14-processed_filtered.csv')\n",
    "\n",
    "# df_full=correct_condition(df_full)"
   ]
  },
  {
   "cell_type": "code",
   "execution_count": 95,
   "id": "d8dd8033",
   "metadata": {},
   "outputs": [
    {
     "name": "stdout",
     "output_type": "stream",
     "text": [
      "                          confidence\n",
      "pid                                 \n",
      "5aeb3c327ed5460001572a5e           1\n",
      "5cd951d48ace520016ef7a31           1\n",
      "5d100e740277ff00152f7562          10\n",
      "5d7a8c6e553a7b001a32d9fd           3\n",
      "5ddc03948db4ed000c4bb499           1\n",
      "5de325f6df86d334c8894e69           2\n",
      "5e70bd5480f43a0009625d4c           1\n",
      "5e99cf5b6b2d720364b92162           1\n",
      "5eb8ff91a1bdb386c80cd7ea           3\n",
      "5ec47b2d91b37736ce88f3d6           3\n",
      "5ed403a89542210ab77530b7           1\n",
      "5ee152b0950c3853a265eab2           1\n",
      "5f2075147b2ccb1408401905          13\n",
      "5f25419d6c25411a2b68ddd8           1\n",
      "5f5d3cc76943f05807b31df5          23\n",
      "5f615839b063530fd7e1fffc           2\n",
      "5f97db802b5a61000ad750ec           1\n",
      "5fab66ec235660663eceb1c7          13\n",
      "5fb141ba6677855a1ef1f7a5           1\n",
      "5fc6c66db312473beedf9d4a           1\n",
      "5fcbc41d70359f1c4435765a           4\n"
     ]
    }
   ],
   "source": [
    "# Exclude participants\n",
    "df_full = df_full[~df_full['pid'].isin(['5f10da001b822c2988fbdb89', '5fbe9e4810850d05920f1d58', '5fbd4036ab05790a26289296'])]\n",
    "# ZERO CONFIDENCE RATING\n",
    "print(df_trials[(df_trials['confidence']==0)][['pid', 'confidence']].groupby('pid').count()) #['pid'].unique()unts)\n"
   ]
  },
  {
   "cell_type": "code",
   "execution_count": 93,
   "id": "d24e390e",
   "metadata": {
    "scrolled": true
   },
   "outputs": [],
   "source": [
    "############## Preprocessing everything done for data_fb_unbalanced ##############\n",
    "\n",
    "pid_subjects = df_unbalanced['pid'].unique()\n",
    "nr_of_trials_per_block = [16,11,11]\n",
    "\n",
    "for pid in pid_subjects:\n",
    "    c3 = df_unbalanced['pid']==pid\n",
    "    blocks = df_unbalanced[c3]['block'].max()\n",
    "    for b in range(blocks):\n",
    "        trial= nr_of_trials_per_block[b]\n",
    "        c2 = (df_unbalanced['trial']==trial)\n",
    "        c1 = (df_unbalanced['trial']==trial+1)\n",
    "        c4 = (df_unbalanced['block']==b+1)\n",
    "        update = df_unbalanced[c1 & c3 & c4]['confidence'].values[0]-df_unbalanced[c2 & c3 &c4]['confidence'].values[0]\n",
    "        avg_baseline= df_unbalanced[c3 & c4 & (df_unbalanced['trial'].isin(range(trial+1)))]['confidence'].mean()\n",
    "        avg_valence= df_unbalanced[c3 & c4 & (df_unbalanced['trial'].isin(range(trial+1, trial+20)))]['confidence'].mean()\n",
    "        avg_update = avg_valence - avg_baseline\n",
    "        df_unbalanced.loc[c3&c4, 'single_update'] = update\n",
    "        df_unbalanced.loc[c3&c4, 'avg_update'] = avg_update\n",
    " \n",
    "        perf_update = df_unbalanced[c1 & c3 & c4]['pavg'].values[0]-df_unbalanced[c2 & c3 &c4]['pavg'].values[0] \n",
    "        avg_perf_baseline= df_unbalanced[c3 & c4 & (df_unbalanced['trial'].isin(range(trial+1)))]['pavg'].mean()\n",
    "        avg_perf_valence= df_unbalanced[c3 & c4 & (df_unbalanced['trial'].isin(range(trial+1, trial+20)))]['pavg'].mean()#\n",
    "        avg_perf_update = avg_perf_valence - avg_perf_baseline\n",
    "        df_unbalanced.loc[c3&c4, 'perf_single_update'] = perf_update\n",
    "        df_unbalanced.loc[c3&c4, 'perf_avg_update'] = avg_perf_update\n",
    "        \n",
    "df_unbalanced.to_csv('data_fb_unbalanced.csv', index=False)\n",
    "df = df_unbalanced[df_unbalanced['pid'].isin(df_balanced['pid'].unique())]\n",
    "df.to_csv('data_fb_balanced.csv', index=False)\n",
    "\n",
    "\n",
    "#trials\n",
    "for pid in pid_subjects:\n",
    "    c3 = df['pid']==pid\n",
    "    for b, trial in enumerate([16,11,11]):   \n",
    "        c2 = (df['trial']==17)\n",
    "        c4 = (df['block']==b+1)\n",
    "        df.loc[c3&c4, 'condition_fb'] = df[c2&c4&c3]['condition'].values[0]\n",
    "        \n",
    "        \n",
    "df = pd.read_csv('data_all_blocks.csv')\n",
    "\n",
    "\n",
    "df_trials = df_trials.drop(columns=['diff', 'diff_abs', 'diff_log', 'rt'])\n",
    "df_means = df_full.groupby(['block', 'pid', 'trial'])[['diff', 'diff_abs', 'diff_log', 'rt']].mean().reset_index()\n",
    "df_trials = df_trials.merge(df_means, on=['block', 'pid', 'trial'], how='left')\n",
    "for i in ['diff','diff_abs', 'diff_log', 'rt']:\n",
    "    df_trials = df_trials.rename(columns = {f'{i}': f'{i}_mean'})\n",
    "\n",
    "df_trials['feedback_shifted_1'] = df_trials.groupby(['pid'])['feedback'].apply(lambda x: x.shift(1))\n",
    "df_trials['condition_shifted_1'] = df_trials.groupby(['pid'])['condition'].apply(lambda x: x.shift(1))\n",
    "\n",
    "\n",
    "# remove subjects \n",
    "\n"
   ]
  },
  {
   "cell_type": "code",
   "execution_count": 99,
   "id": "6f837428",
   "metadata": {},
   "outputs": [],
   "source": [
    "# WORKAROUND \n",
    "# add variable for baseline \n",
    "df_trials = pd.read_csv('/Users/annelene/Documents/uni/phd/metacognition/code/analysis/analysis-V3/analysis-V3-main/data_fb_unbalanced.csv')\n",
    "df_trials['baseline']=0\n",
    "df_trials.loc[df_trials['condition']=='baseline', 'baseline']=1\n",
    "df_trials = df_trials[~df_trials['pid'].isin(['5f10da001b822c2988fbdb89', '5fbe9e4810850d05920f1d58', '5fbd4036ab05790a26289296'])]\n"
   ]
  },
  {
   "cell_type": "code",
   "execution_count": 100,
   "id": "42a0aca0",
   "metadata": {
    "scrolled": true
   },
   "outputs": [],
   "source": [
    "# Store dataframes\n",
    "df_trials.to_csv(f'./../data/processed/fixed_feedback_data_processed_trials.csv')\n",
    "df_full.to_csv(f'./../data/processed/fixed_feedback_data_processed_subtrials.csv')\n"
   ]
  },
  {
   "cell_type": "code",
   "execution_count": null,
   "id": "9a25ee20",
   "metadata": {},
   "outputs": [],
   "source": []
  }
 ],
 "metadata": {
  "kernelspec": {
   "display_name": "Python 3 (ipykernel)",
   "language": "python",
   "name": "python3"
  },
  "language_info": {
   "codemirror_mode": {
    "name": "ipython",
    "version": 3
   },
   "file_extension": ".py",
   "mimetype": "text/x-python",
   "name": "python",
   "nbconvert_exporter": "python",
   "pygments_lexer": "ipython3",
   "version": "3.9.13"
  }
 },
 "nbformat": 4,
 "nbformat_minor": 5
}
