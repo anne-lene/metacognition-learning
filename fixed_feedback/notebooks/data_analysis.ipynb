{
 "cells": [
  {
   "cell_type": "code",
   "execution_count": 7,
   "id": "75a8c37e",
   "metadata": {},
   "outputs": [],
   "source": [
    "import sys\n",
    "import numpy as np\n",
    "import pandas as pd\n",
    "import matplotlib.pyplot as plt\n",
    "import seaborn as sns\n",
    "import statsmodels.api as sm\n",
    "from scipy.stats import linregress\n",
    "from IPython.core.display import HTML\n",
    "import sklearn\n",
    "from statsmodels.graphics.factorplots import interaction_plot\n",
    "from statsmodels.stats.anova import anova_lm, AnovaRM\n",
    "import pingouin as pg\n",
    "\n",
    "from utility_functions import *"
   ]
  },
  {
   "cell_type": "code",
   "execution_count": 8,
   "id": "6e629240",
   "metadata": {},
   "outputs": [],
   "source": [
    "# Constants and Variables\n",
    "DATA_PATH = './../data/processed/'\n",
    "\n",
    "# Read data from files\n",
    "df_full = pd.read_csv(f'{DATA_PATH}fixed_feedback_data_processed.csv')\n"
   ]
  },
  {
   "cell_type": "code",
   "execution_count": null,
   "id": "115bc527",
   "metadata": {},
   "outputs": [],
   "source": []
  }
 ],
 "metadata": {
  "kernelspec": {
   "display_name": "Python 3 (ipykernel)",
   "language": "python",
   "name": "python3"
  },
  "language_info": {
   "codemirror_mode": {
    "name": "ipython",
    "version": 3
   },
   "file_extension": ".py",
   "mimetype": "text/x-python",
   "name": "python",
   "nbconvert_exporter": "python",
   "pygments_lexer": "ipython3",
   "version": "3.9.13"
  }
 },
 "nbformat": 4,
 "nbformat_minor": 5
}
